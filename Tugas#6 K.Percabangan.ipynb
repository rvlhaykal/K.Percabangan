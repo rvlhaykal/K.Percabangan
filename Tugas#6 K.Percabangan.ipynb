{
 "cells": [
  {
   "cell_type": "markdown",
   "id": "0981f70d-8606-4de3-bbd8-f0294d477052",
   "metadata": {},
   "source": [
    "<h1>Nama : Reval Mizar H. Kelas : TI24A NIM : 20240040040</h1>\n",
    "Buatlah program yang meminta pengguna memasukkan usia seseorang, lalu tentukan apakah dia\n",
    "anak-anak (0-12 tahun), remaja (13-17 tahun), dewasa (18-59 tahun), atau lansia (60 tahun ke atas)."
   ]
  },
  {
   "cell_type": "code",
   "execution_count": 1,
   "id": "855dde67-884f-47aa-a7b3-9eb6c9af314d",
   "metadata": {},
   "outputs": [
    {
     "name": "stdin",
     "output_type": "stream",
     "text": [
      "Isikan Usia Anda 20\n"
     ]
    },
    {
     "name": "stdout",
     "output_type": "stream",
     "text": [
      "Usia Anda masuk dalam kategori : Dewasa\n"
     ]
    }
   ],
   "source": [
    "usia = int(input(\"Isikan Usia Anda\"))\n",
    "\n",
    "if 0 <=  usia <= 12:\n",
    "    kategori = \"Anak Anak\"\n",
    "elif 13 <= usia <= 17:\n",
    "    kategori = \"Remaja\"\n",
    "elif 18 <= usia <= 59:\n",
    "    kategori = \"Dewasa\"\n",
    "elif usia >= 60:\n",
    "    kategori = \"Lansia\"\n",
    "else:\n",
    "    kategori = \"Usia Tidak Valid\"\n",
    "\n",
    "print(f\"Usia Anda masuk dalam kategori :\",kategori)"
   ]
  },
  {
   "cell_type": "markdown",
   "id": "06216c0f-f74f-4ce7-8633-f4a0b2489ab0",
   "metadata": {},
   "source": [
    "Sebuah taman hiburan memiliki aturan harga tiket berdasarkan usia:\n",
    "\n",
    "Anak-anak (0-12 tahun): Rp 10.000\n",
    "Remaja (13-17 tahun): Rp 15.000\n",
    "Dewasa (18-59 tahun): Rp 25.000\n",
    "Lansia (60 tahun ke atas): Gratis\n",
    "\n",
    "Buat program untuk menentukan harga tiket berdasarkan usia yang dimasukkan pengguna dan total harga yang harus dibayar, jika terdapat 3 input seperti berikut ini"
   ]
  },
  {
   "cell_type": "code",
   "execution_count": 2,
   "id": "de874f07-9593-431f-8a85-01066efe87fd",
   "metadata": {},
   "outputs": [
    {
     "name": "stdin",
     "output_type": "stream",
     "text": [
      "Isikan Umur Tiket 1: 15\n",
      "Isikan Umur Tiket 2:  20\n",
      "Isikan Umur Tiket 3:  45\n"
     ]
    },
    {
     "name": "stdout",
     "output_type": "stream",
     "text": [
      "Total Harga yang harus dibayar:  65000\n"
     ]
    }
   ],
   "source": [
    "tiket1 = int(input(\"Isikan Umur Tiket 1:\"))\n",
    "tiket2 = int(input(\"Isikan Umur Tiket 2: \"))\n",
    "tiket3 = int(input(\"Isikan Umur Tiket 3: \"))\n",
    "\n",
    "def hargaTiket (usia):\n",
    "    if 0 <= usia <= 12:\n",
    "        return 10000\n",
    "    elif 13 <= usia <= 17:\n",
    "        return 15000\n",
    "    elif 18 <= usia <= 59:\n",
    "        return 25000\n",
    "    elif usia >= 60:\n",
    "        return 0\n",
    "    else:\n",
    "        \"Usia Tidak Valid\"\n",
    "\n",
    "totalHarga = (hargaTiket(tiket1) + hargaTiket(tiket2) + hargaTiket(tiket3))\n",
    "\n",
    "print(f\"Total Harga yang harus dibayar: \",totalHarga)"
   ]
  },
  {
   "cell_type": "markdown",
   "id": "97ec1737-962a-459b-8888-33485f1eb39b",
   "metadata": {},
   "source": [
    "Sebuah restoran memiliki diskon khusus: Anak-anak (0-12 tahun) diskon 50% Lansia (60 tahun ke atas) diskon 30% Selain itu, tidak ada diskon \n",
    "\n",
    "Buat program untuk menghitung harga yang harus dibayar setelah diskon diberikan."
   ]
  },
  {
   "cell_type": "code",
   "execution_count": 3,
   "id": "d6bef82b-3a38-4fb1-9e1c-5d9cbb4444b9",
   "metadata": {},
   "outputs": [
    {
     "name": "stdin",
     "output_type": "stream",
     "text": [
      "Masukan Usia Anda:  20\n",
      "Masukan Harga:  250000\n"
     ]
    },
    {
     "name": "stdout",
     "output_type": "stream",
     "text": [
      "Maaf anda belum mendapatkan diskon\n",
      "Harga yang harus dibayar : Rp.250000.0\n"
     ]
    }
   ],
   "source": [
    "usia = int(input(\"Masukan Usia Anda: \"))\n",
    "harga = int(input(\"Masukan Harga: \"))\n",
    "\n",
    "if 0 <= usia <= 12:\n",
    "    diskon = 50\n",
    "    print(\"Diskon :\",diskon,\"%\")\n",
    "elif usia >= 60:\n",
    "    diskon = 30\n",
    "    print(\"Diskon :\",diskon,\"%\")\n",
    "else:\n",
    "    diskon = 0\n",
    "    \"Tidak Ada Diskon\"\n",
    "    print(f\"Maaf anda belum mendapatkan diskon\")\n",
    "\n",
    "hargaDiskon = harga - (harga * diskon/100)\n",
    "\n",
    "print(f\"Harga yang harus dibayar : Rp.{hargaDiskon}\")"
   ]
  },
  {
   "cell_type": "markdown",
   "id": "560a224e-2c25-4192-9149-8b272ff3364c",
   "metadata": {},
   "source": [
    "Program beasiswa:\n",
    "\n",
    "Jika nilai rapor ≥ 90 dan penghasilan orang tua < Rp 5.000.000 → Beasiswa Penuh\n",
    "\n",
    "Jika nilai rapor ≥ 85 dan penghasilan orang tua < Rp 8.000.000 → Beasiswa 50%\n",
    "\n",
    "Jika tidak memenuhi syarat di atas → Tidak mendapatkan beasiswa"
   ]
  },
  {
   "cell_type": "code",
   "execution_count": 4,
   "id": "577e0cb0-2172-44b8-83f3-ad8b83b959c4",
   "metadata": {},
   "outputs": [
    {
     "name": "stdin",
     "output_type": "stream",
     "text": [
      "Isikan Nilai Rapor : 88\n",
      "Isikan Penghasilan Orang Tua : 3000000\n"
     ]
    },
    {
     "name": "stdout",
     "output_type": "stream",
     "text": [
      "Selamat Anda mendapatkan Beasiswa 50%.\n"
     ]
    }
   ],
   "source": [
    "nilai = int(input(\"Isikan Nilai Rapor :\"))\n",
    "penghasilan = int(input(\"Isikan Penghasilan Orang Tua :\"))\n",
    "\n",
    "if nilai >= 90 and penghasilan < 5000000:\n",
    "    print(\"Selamat Anda mendapatkan Beasiswa Penuh.\")\n",
    "elif nilai >= 85 and penghasilan < 8000000:\n",
    "    print(\"Selamat Anda mendapatkan Beasiswa 50%.\")\n",
    "else:\n",
    "    print(\"Tidak mendapatkan Beasiswa.\")"
   ]
  },
  {
   "cell_type": "markdown",
   "id": "87ef9334-c49d-4414-8695-c2d0d2d6ea65",
   "metadata": {},
   "source": [
    "Suatu aplikasi streaming memiliki batasan usia:\n",
    "\n",
    "Film Semua Umur: Bisa ditonton oleh siapa saja\n",
    "\n",
    "Film Remaja: Hanya untuk usia ≥ 13 tahun\n",
    "\n",
    "Film Dewasa: Hanya untuk usia ≥ 18 tahun\n",
    "\n",
    "Buat program yang meminta input usia dan kategori film, lalu tentukan apakah seseorang boleh menonton film tersebut atau tidak."
   ]
  },
  {
   "cell_type": "code",
   "execution_count": 6,
   "id": "3ca305d9-a520-4b3b-b8cf-dff9351a5821",
   "metadata": {},
   "outputs": [
    {
     "name": "stdin",
     "output_type": "stream",
     "text": [
      "Masukan Umur Penonton : 20\n",
      "Masukan Kategori Film (Semua Umur/Remaja/Dewasa) : Dewasa\n"
     ]
    },
    {
     "name": "stdout",
     "output_type": "stream",
     "text": [
      "Anda boleh Menonton\n"
     ]
    }
   ],
   "source": [
    "umur = int(input(\"Masukan Umur Penonton :\"))\n",
    "kategoriFilm = input(\"Masukan Kategori Film (Semua Umur/Remaja/Dewasa) :\")\n",
    "\n",
    "if kategoriFilm == \"Semua Umur\":\n",
    "    print(\"Anda boleh Menonton\") \n",
    "elif kategoriFilm == \"Remaja\" and umur >= 13:\n",
    "    print(\"Anda boleh Menonton\")\n",
    "elif kategoriFilm == \"Dewasa\" and umur >= 18:\n",
    "    print(\"Anda boleh Menonton\")\n",
    "else:\n",
    "    print(\"Anda Tidak boleh Menonton Film ini.\")"
   ]
  },
  {
   "cell_type": "markdown",
   "id": "cc100ef5-b8d0-4aaa-ae86-482493ae4220",
   "metadata": {},
   "source": [
    "Sebuah toko memberikan diskon berdasarkan jumlah pembelian:\n",
    "\n",
    "Jika total belanja ≥ Rp 500.000 → Diskon 20%\n",
    "\n",
    "Jika total belanja ≥ Rp 250.000 → Diskon 10%\n",
    "\n",
    "Jika total belanja < Rp 250.000 → Tidak ada diskon\n",
    "\n",
    "Hitung harga akhir setelah diskon."
   ]
  },
  {
   "cell_type": "code",
   "execution_count": 7,
   "id": "76501ded-f5d9-4100-8379-ab702d91454e",
   "metadata": {},
   "outputs": [
    {
     "name": "stdin",
     "output_type": "stream",
     "text": [
      "Isikan Total belanja : 430000\n"
     ]
    },
    {
     "name": "stdout",
     "output_type": "stream",
     "text": [
      "Diskon : 10 %\n",
      "total Belanja setelah diskon :387000.0\n"
     ]
    }
   ],
   "source": [
    "total = int(input(\"Isikan Total belanja :\"))\n",
    "\n",
    "if total >= 500000:\n",
    "    diskon = 20\n",
    "    print(\"Diskon :\", diskon,\"%\")\n",
    "elif total >= 250000:\n",
    "    diskon = 10\n",
    "    print(\"Diskon :\", diskon,\"%\")\n",
    "else:\n",
    "    diskon = 0\n",
    "    print(\"Tidak Ada Diskon\")\n",
    "\n",
    "hargaAkhir = total - (total * diskon/100)\n",
    "print(f\"total Belanja setelah diskon :{hargaAkhir}\")"
   ]
  },
  {
   "cell_type": "markdown",
   "id": "f4d5d9d0-f4ca-4d48-bd89-6debd65300ff",
   "metadata": {},
   "source": [
    "Program parkir:\n",
    "\n",
    "Mobil: Rp 5.000 per jam\n",
    "\n",
    "Motor: Rp 2.000 per jam\n",
    "\n",
    "Jika parkir lebih dari 5 jam, ada biaya tambahan Rp 10.000\n",
    "\n",
    "Hitung total biaya parkir berdasarkan jenis kendaraan dan durasi parkir."
   ]
  },
  {
   "cell_type": "code",
   "execution_count": 8,
   "id": "4f2ef816-4abd-466a-8655-26a89c4341b5",
   "metadata": {},
   "outputs": [
    {
     "name": "stdin",
     "output_type": "stream",
     "text": [
      "Masukan jenis kendaraan : Motor\n",
      "Masukan durasi Parkir : 4\n"
     ]
    },
    {
     "name": "stdout",
     "output_type": "stream",
     "text": [
      "Total biaya parkir : Rp. 8000\n"
     ]
    }
   ],
   "source": [
    "kendaraan = input(\"Masukan jenis kendaraan :\")\n",
    "durasi = int(input(\"Masukan durasi Parkir :\"))\n",
    "\n",
    "if kendaraan == \"Mobil\":\n",
    "    tarif = 5000 \n",
    "elif kendaraan == \"Motor\":\n",
    "    tarif = 2000 \n",
    "else:\n",
    "    print(\"Tidak ada kendaraan seperti itcu\")\n",
    "\n",
    "total = tarif * durasi\n",
    "\n",
    "if durasi > 5:\n",
    "    total += 10000\n",
    "\n",
    "print(f\"Total biaya parkir : Rp. {total}\")"
   ]
  },
  {
   "cell_type": "markdown",
   "id": "e5c6bb00-d03f-4477-bc73-86bc3cf79af6",
   "metadata": {},
   "source": [
    "Aplikasi transportasi online memiliki tarif sebagai berikut:\n",
    "\n",
    "Jika jarak ≤ 5 km → Rp 5.000/km\n",
    "\n",
    "Jika jarak 6-10 km → Rp 4.000/km\n",
    "\n",
    "Jika jarak > 10 km → Rp 3.000/km\n",
    "\n",
    "Hitung tarif perjalanan berdasarkan jarak yang dimasukkan pengguna."
   ]
  },
  {
   "cell_type": "code",
   "execution_count": 9,
   "id": "f509b3dd-14a0-48ce-9f91-888c829fec25",
   "metadata": {},
   "outputs": [
    {
     "name": "stdin",
     "output_type": "stream",
     "text": [
      "Masukan Jarak perjalanan (km) : 22\n"
     ]
    },
    {
     "name": "stdout",
     "output_type": "stream",
     "text": [
      "total Tarif Perjalanan untuk 22km : Rp.66000\n"
     ]
    }
   ],
   "source": [
    "jarak = int(input(\"Masukan Jarak perjalanan (km) :\"))\n",
    "\n",
    "if jarak <= 5:\n",
    "    tarif = jarak * 5000\n",
    "elif 6 <= jarak <= 10:\n",
    "    tarif = jarak * 4000\n",
    "else:\n",
    "    tarif = jarak * 3000\n",
    "\n",
    "total = jarak and tarif\n",
    "\n",
    "print(f\"total Tarif Perjalanan untuk {jarak}km : Rp.{total}\")"
   ]
  },
  {
   "cell_type": "markdown",
   "id": "1c3c3a01-7772-4023-95da-7408fddbcba9",
   "metadata": {},
   "source": [
    "Buatlah sebuah sistem penerimaan calon programmer yang akan menerima dua nilai ( nilai coding dan nilai interview). Untuk penilaian test coding skala penilaian yang diberikan dimulai dari 0 hingga 100 dengan sistem penilaian:\n",
    "\n",
    "\n",
    "1.ketika seseorang mendapatkan nilai lebih dari 80 maka peserta tersebut akan mendapatkan hasil tes LOLOS\n",
    "\n",
    "2.ketika sesorang mendapatkan nilai diantara 60 hingga 80 maka peserta tersebut mendapatkan hasil tes DIPERTIMBANGKAN\n",
    "\n",
    "3.ketika seseorang mendapatkan nilai dibawah 60 maka peserta tersebut mendapatkan hasil tes GAGAL.\n",
    "\n",
    "Sedangkan untuk penilaian interview adalah\n",
    "\n",
    "\n",
    "1.ketika nilai yang diberikan kepada seseorang tersebut adalah \"A\" atau \"B\" maka peserta tersebut dianggap LOLOS interview\n",
    "\n",
    "2.selain kedua nilai tersebut maka peserta dianggap GAGAL tes interview.\n",
    "\n",
    "Ketika calon programmer mendapatkan nilai coding LOLOS atau DIPERTIMBANGKAN dan juga LOLOS test interview maka tampilkanlah pesan \"Selamat Kamu \n",
    "Berhasil Menjadi Calon Programmer\". Jika tidak maka tampilkanlah pesan \"Maaf Kamu Belum Berhasil Menjadi Calon Programmer\""
   ]
  },
  {
   "cell_type": "code",
   "execution_count": 10,
   "id": "778d8c8c-61fa-4dc9-8f45-b657b793a123",
   "metadata": {},
   "outputs": [
    {
     "name": "stdin",
     "output_type": "stream",
     "text": [
      "Masukan nilai coding : 84\n",
      "Masukan Nilai Interview (A/B/C/D):  B\n"
     ]
    },
    {
     "name": "stdout",
     "output_type": "stream",
     "text": [
      "Selamat Kamu Berhasil Menjadi Calon Programmer\n"
     ]
    }
   ],
   "source": [
    "nilai1 = int(input(\"Masukan nilai coding :\"))\n",
    "nilai2 = input(\"Masukan Nilai Interview (A/B/C/D): \")\n",
    "\n",
    "if nilai1 > 80:\n",
    "    hasil1 = \"LOLOS\"\n",
    "elif 60 <= nilai1 <= 80:\n",
    "    hasil1 = \"Dipertimbangkan\"\n",
    "else:\n",
    "    hasil1 = \"GAGAL\"\n",
    "\n",
    "if nilai2 in [\"A\", \"B\"]:\n",
    "    hasil2 = \"LOLOS\"\n",
    "else:\n",
    "    hasil2 = \"GAGAL\"\n",
    "\n",
    "if (hasil1 in [\"LOLOS\", \"DIPERTIMBANGKAN\"]) and hasil2 == \"LOLOS\":\n",
    "    print(\"Selamat Kamu Berhasil Menjadi Calon Programmer\")\n",
    "else:\n",
    "    print(\"Maaf Kamu Belum Berhasil Menjadi Calon Programmer\")"
   ]
  },
  {
   "cell_type": "markdown",
   "id": "bca9d1d1-849f-41f8-a92b-06ff34ed4595",
   "metadata": {},
   "source": [
    "Sebuah klub sepak bola “PERSEGI FC” mempunyai aturan dalam memberikan nomor punggung bagi para pemainnya. Para pemain diperbolehkan mempunyai posisi lebih dari 1. Berikut adalah beberapa aturannya:\n",
    "\n",
    "1.Untuk nomor punggung genap, digunakan untuk posisi “target attacker”\n",
    "\n",
    "2.Untuk nomor punggung genap antara 50 – 100, digunakan untuk pemain yang “berhak dipilih menjadi capten team”\n",
    "\n",
    "3.Untuk nomor punggung ganjil, digunakan untuk posisi “defender”\n",
    "\n",
    "4.Untuk nomor punggung ganjil lebih dari 90, digunakan untuk posisi “Playmaker”\n",
    "\n",
    "5.Untuk nomor punggung ganjil kelipatan dari 3 dan 5, digunakan untuk posisi “keeper”\n",
    "\n",
    "Buatlah program untuk melakukan pengecekan sebuah nomor punggung dapat berfungsi sebagai posisi apa saja."
   ]
  },
  {
   "cell_type": "code",
   "execution_count": null,
   "id": "b8a2107b-d1b8-4ced-b667-7e82ff9d7500",
   "metadata": {},
   "outputs": [],
   "source": [
    "nomorP = int(input(\"Masukan No Punggung Pemain :\"))\n",
    "posisi = \"\" \n",
    "\n",
    "if nomorP % 2 == 0:\n",
    "    posisi += \"Attacker\"\n",
    "    if 50 <= nomorP <= 100:\n",
    "        posisi += \" Berhak Dipilih Menjadi Captain Team\"\n",
    "else:\n",
    "    posisi += \"Defender\"\n",
    "    if nomorP > 90:\n",
    "        posisi += \"Playmaker\"\n",
    "    if nomorP % 3 == 0 and nomorP % 5 == 0:\n",
    "        posisi += \"Keeper\"\n",
    "    else:\n",
    "        posisi = \"Tidak memiliki Posisi\"\n",
    "\n",
    "hasil = posisi\n",
    "\n",
    "print(\"Nomor Punggung\",nomorP, \"Dapat Berfungsi Sebagai :\")\n",
    "print(hasil)"
   ]
  }
 ],
 "metadata": {
  "kernelspec": {
   "display_name": "Python 3 (ipykernel)",
   "language": "python",
   "name": "python3"
  },
  "language_info": {
   "codemirror_mode": {
    "name": "ipython",
    "version": 3
   },
   "file_extension": ".py",
   "mimetype": "text/x-python",
   "name": "python",
   "nbconvert_exporter": "python",
   "pygments_lexer": "ipython3",
   "version": "3.12.7"
  }
 },
 "nbformat": 4,
 "nbformat_minor": 5
}
